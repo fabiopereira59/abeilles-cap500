{
 "cells": [
  {
   "cell_type": "markdown",
   "id": "015b2567",
   "metadata": {},
   "source": [
    "# Création du csv avec le bon nombre d'images"
   ]
  },
  {
   "cell_type": "code",
   "execution_count": 1,
   "id": "f5a05fd9",
   "metadata": {},
   "outputs": [],
   "source": [
    "import pandas as pd\n",
    "import os\n",
    "from PIL import Image\n",
    "import numpy as np"
   ]
  },
  {
   "cell_type": "code",
   "execution_count": 2,
   "id": "00ec36ca",
   "metadata": {},
   "outputs": [
    {
     "name": "stdout",
     "output_type": "stream",
     "text": [
      "/Users/pereiradearaujo/Documents/Scolarité/ENSEEIHT/Stage2A\n"
     ]
    }
   ],
   "source": [
    "path = os.getcwd()\n",
    "print(path)"
   ]
  },
  {
   "cell_type": "code",
   "execution_count": 20,
   "id": "cb477b0e",
   "metadata": {},
   "outputs": [
    {
     "data": {
      "text/html": [
       "<div>\n",
       "<style scoped>\n",
       "    .dataframe tbody tr th:only-of-type {\n",
       "        vertical-align: middle;\n",
       "    }\n",
       "\n",
       "    .dataframe tbody tr th {\n",
       "        vertical-align: top;\n",
       "    }\n",
       "\n",
       "    .dataframe thead th {\n",
       "        text-align: right;\n",
       "    }\n",
       "</style>\n",
       "<table border=\"1\" class=\"dataframe\">\n",
       "  <thead>\n",
       "    <tr style=\"text-align: right;\">\n",
       "      <th></th>\n",
       "      <th>Unnamed: 0</th>\n",
       "      <th>species</th>\n",
       "      <th>No_of_images</th>\n",
       "    </tr>\n",
       "  </thead>\n",
       "  <tbody>\n",
       "    <tr>\n",
       "      <th>0</th>\n",
       "      <td>0</td>\n",
       "      <td>Apis mellifera</td>\n",
       "      <td>49605</td>\n",
       "    </tr>\n",
       "    <tr>\n",
       "      <th>1</th>\n",
       "      <td>1</td>\n",
       "      <td>NaN</td>\n",
       "      <td>30032</td>\n",
       "    </tr>\n",
       "    <tr>\n",
       "      <th>2</th>\n",
       "      <td>2</td>\n",
       "      <td>Bombus pascuorum</td>\n",
       "      <td>12455</td>\n",
       "    </tr>\n",
       "    <tr>\n",
       "      <th>3</th>\n",
       "      <td>3</td>\n",
       "      <td>Bombus lapidarius</td>\n",
       "      <td>5816</td>\n",
       "    </tr>\n",
       "    <tr>\n",
       "      <th>4</th>\n",
       "      <td>4</td>\n",
       "      <td>Bombus hypnorum</td>\n",
       "      <td>5204</td>\n",
       "    </tr>\n",
       "    <tr>\n",
       "      <th>...</th>\n",
       "      <td>...</td>\n",
       "      <td>...</td>\n",
       "      <td>...</td>\n",
       "    </tr>\n",
       "    <tr>\n",
       "      <th>69</th>\n",
       "      <td>69</td>\n",
       "      <td>Halictus sexcinctus</td>\n",
       "      <td>117</td>\n",
       "    </tr>\n",
       "    <tr>\n",
       "      <th>70</th>\n",
       "      <td>70</td>\n",
       "      <td>Bombus muscorum</td>\n",
       "      <td>117</td>\n",
       "    </tr>\n",
       "    <tr>\n",
       "      <th>71</th>\n",
       "      <td>71</td>\n",
       "      <td>Anthophora furcata</td>\n",
       "      <td>116</td>\n",
       "    </tr>\n",
       "    <tr>\n",
       "      <th>72</th>\n",
       "      <td>72</td>\n",
       "      <td>Andrena denticulata</td>\n",
       "      <td>109</td>\n",
       "    </tr>\n",
       "    <tr>\n",
       "      <th>73</th>\n",
       "      <td>73</td>\n",
       "      <td>Andrena thoracica</td>\n",
       "      <td>101</td>\n",
       "    </tr>\n",
       "  </tbody>\n",
       "</table>\n",
       "<p>74 rows × 3 columns</p>\n",
       "</div>"
      ],
      "text/plain": [
       "    Unnamed: 0              species  No_of_images\n",
       "0            0       Apis mellifera         49605\n",
       "1            1                  NaN         30032\n",
       "2            2     Bombus pascuorum         12455\n",
       "3            3    Bombus lapidarius          5816\n",
       "4            4      Bombus hypnorum          5204\n",
       "..         ...                  ...           ...\n",
       "69          69  Halictus sexcinctus           117\n",
       "70          70      Bombus muscorum           117\n",
       "71          71   Anthophora furcata           116\n",
       "72          72  Andrena denticulata           109\n",
       "73          73    Andrena thoracica           101\n",
       "\n",
       "[74 rows x 3 columns]"
      ]
     },
     "metadata": {},
     "output_type": "display_data"
    }
   ],
   "source": [
    "especes_dataset = pd.read_csv(path + \"/Images_wild_bees/liste_class.csv\")\n",
    "display(especes_dataset)"
   ]
  },
  {
   "cell_type": "code",
   "execution_count": 21,
   "id": "4c0a7268",
   "metadata": {},
   "outputs": [],
   "source": [
    "especes_dataset.drop(1, inplace=True)\n",
    "especes_dataset.drop(5, inplace=True)\n",
    "especes_dataset.drop(32, inplace=True)"
   ]
  },
  {
   "cell_type": "code",
   "execution_count": 22,
   "id": "fd44aceb",
   "metadata": {},
   "outputs": [],
   "source": [
    "especes_dataset.reset_index(inplace=True)"
   ]
  },
  {
   "cell_type": "code",
   "execution_count": 23,
   "id": "07aa068f",
   "metadata": {},
   "outputs": [],
   "source": [
    "especes_dataset.to_csv(path + \"/liste_class_71.csv\")"
   ]
  },
  {
   "cell_type": "code",
   "execution_count": 24,
   "id": "e6888870",
   "metadata": {},
   "outputs": [
    {
     "data": {
      "text/html": [
       "<div>\n",
       "<style scoped>\n",
       "    .dataframe tbody tr th:only-of-type {\n",
       "        vertical-align: middle;\n",
       "    }\n",
       "\n",
       "    .dataframe tbody tr th {\n",
       "        vertical-align: top;\n",
       "    }\n",
       "\n",
       "    .dataframe thead th {\n",
       "        text-align: right;\n",
       "    }\n",
       "</style>\n",
       "<table border=\"1\" class=\"dataframe\">\n",
       "  <thead>\n",
       "    <tr style=\"text-align: right;\">\n",
       "      <th></th>\n",
       "      <th>index</th>\n",
       "      <th>Unnamed: 0</th>\n",
       "      <th>species</th>\n",
       "      <th>No_of_images</th>\n",
       "    </tr>\n",
       "  </thead>\n",
       "  <tbody>\n",
       "    <tr>\n",
       "      <th>0</th>\n",
       "      <td>0</td>\n",
       "      <td>0</td>\n",
       "      <td>Apis mellifera</td>\n",
       "      <td>49605</td>\n",
       "    </tr>\n",
       "    <tr>\n",
       "      <th>1</th>\n",
       "      <td>2</td>\n",
       "      <td>2</td>\n",
       "      <td>Bombus pascuorum</td>\n",
       "      <td>12455</td>\n",
       "    </tr>\n",
       "    <tr>\n",
       "      <th>2</th>\n",
       "      <td>3</td>\n",
       "      <td>3</td>\n",
       "      <td>Bombus lapidarius</td>\n",
       "      <td>5816</td>\n",
       "    </tr>\n",
       "    <tr>\n",
       "      <th>3</th>\n",
       "      <td>4</td>\n",
       "      <td>4</td>\n",
       "      <td>Bombus hypnorum</td>\n",
       "      <td>5204</td>\n",
       "    </tr>\n",
       "    <tr>\n",
       "      <th>4</th>\n",
       "      <td>6</td>\n",
       "      <td>6</td>\n",
       "      <td>Xylocopa violacea</td>\n",
       "      <td>4042</td>\n",
       "    </tr>\n",
       "    <tr>\n",
       "      <th>...</th>\n",
       "      <td>...</td>\n",
       "      <td>...</td>\n",
       "      <td>...</td>\n",
       "      <td>...</td>\n",
       "    </tr>\n",
       "    <tr>\n",
       "      <th>66</th>\n",
       "      <td>69</td>\n",
       "      <td>69</td>\n",
       "      <td>Halictus sexcinctus</td>\n",
       "      <td>117</td>\n",
       "    </tr>\n",
       "    <tr>\n",
       "      <th>67</th>\n",
       "      <td>70</td>\n",
       "      <td>70</td>\n",
       "      <td>Bombus muscorum</td>\n",
       "      <td>117</td>\n",
       "    </tr>\n",
       "    <tr>\n",
       "      <th>68</th>\n",
       "      <td>71</td>\n",
       "      <td>71</td>\n",
       "      <td>Anthophora furcata</td>\n",
       "      <td>116</td>\n",
       "    </tr>\n",
       "    <tr>\n",
       "      <th>69</th>\n",
       "      <td>72</td>\n",
       "      <td>72</td>\n",
       "      <td>Andrena denticulata</td>\n",
       "      <td>109</td>\n",
       "    </tr>\n",
       "    <tr>\n",
       "      <th>70</th>\n",
       "      <td>73</td>\n",
       "      <td>73</td>\n",
       "      <td>Andrena thoracica</td>\n",
       "      <td>101</td>\n",
       "    </tr>\n",
       "  </tbody>\n",
       "</table>\n",
       "<p>71 rows × 4 columns</p>\n",
       "</div>"
      ],
      "text/plain": [
       "    index  Unnamed: 0              species  No_of_images\n",
       "0       0           0       Apis mellifera         49605\n",
       "1       2           2     Bombus pascuorum         12455\n",
       "2       3           3    Bombus lapidarius          5816\n",
       "3       4           4      Bombus hypnorum          5204\n",
       "4       6           6    Xylocopa violacea          4042\n",
       "..    ...         ...                  ...           ...\n",
       "66     69          69  Halictus sexcinctus           117\n",
       "67     70          70      Bombus muscorum           117\n",
       "68     71          71   Anthophora furcata           116\n",
       "69     72          72  Andrena denticulata           109\n",
       "70     73          73    Andrena thoracica           101\n",
       "\n",
       "[71 rows x 4 columns]"
      ]
     },
     "metadata": {},
     "output_type": "display_data"
    }
   ],
   "source": [
    "display(especes_dataset)"
   ]
  },
  {
   "cell_type": "code",
   "execution_count": 28,
   "id": "bcb53d8b",
   "metadata": {},
   "outputs": [
    {
     "name": "stdout",
     "output_type": "stream",
     "text": [
      "['Apis mellifera' 'Bombus pascuorum' 'Bombus lapidarius' 'Bombus hypnorum'\n",
      " 'Xylocopa violacea' 'Bombus pratorum' 'Osmia bicornis' 'Andrena fulva'\n",
      " 'Osmia cornuta' 'Andrena cineraria' 'Halictus scabiosae'\n",
      " 'Andrena haemorrhoa' 'Anthidium manicatum' 'Colletes hederae'\n",
      " 'Anthophora plumipes' 'Bombus hortorum' 'Dasypoda hirtipes'\n",
      " 'Andrena vaga' 'Colletes cunicularius' 'Bombus lucorum'\n",
      " 'Anthidium florentinum' 'Bombus sylvarum' 'Bombus rupestris'\n",
      " 'Andrena hattorfiana' 'Ceratina cucurbitina' 'Bombus vestalis'\n",
      " 'Andrena clarkella' 'Bombus humilis' 'Sphecodes albilabris'\n",
      " 'Andrena flavipes' 'Bombus campestris' 'Andrena nitida'\n",
      " 'Megachile sculpturalis' 'Osmia bicolor' 'Macropis europaea'\n",
      " 'Andrena nigroaenea' 'Bombus argillaceus' 'Nomada goodeniana'\n",
      " 'Andrena florea' 'Amegilla quadrifasciata' 'Megachile ericetorum'\n",
      " 'Xylocopa valga' 'Bombus terrestris lusitanicus'\n",
      " 'Rhodanthidium septemdentatum' 'Bombus bohemicus' 'Halictus rubicundus'\n",
      " 'Melecta albifrons' 'Chelostoma florisomne' 'Anthidium oblongatum'\n",
      " 'Anthidium septemspinosum' 'Rhodanthidium sticticum'\n",
      " 'Anthidiellum strigatum' 'Andrena agilissima' 'Anthophora bimaculata'\n",
      " 'Andrena ventralis' 'Andrena bicolor' 'Heriades truncorum'\n",
      " 'Hylaeus variegatus' 'Osmia caerulescens' 'Bombus ruderatus'\n",
      " 'Megachile centuncularis' 'Lithurgus chrysurus' 'Osmia aurulenta'\n",
      " 'Andrena nycthemera' 'Nomada lathburiana' 'Andrena gravida'\n",
      " 'Halictus sexcinctus' 'Bombus muscorum' 'Anthophora furcata'\n",
      " 'Andrena denticulata' 'Andrena thoracica']\n"
     ]
    }
   ],
   "source": [
    "especes_names = especes_dataset[\"species\"].to_numpy()\n",
    "print(especes_names)"
   ]
  },
  {
   "cell_type": "code",
   "execution_count": 31,
   "id": "e36d60b1",
   "metadata": {},
   "outputs": [
    {
     "name": "stdout",
     "output_type": "stream",
     "text": [
      "['Amegilla quadrifasciata' 'Andrena agilissima' 'Andrena bicolor'\n",
      " 'Andrena cineraria' 'Andrena clarkella' 'Andrena denticulata'\n",
      " 'Andrena flavipes' 'Andrena florea' 'Andrena fulva' 'Andrena gravida'\n",
      " 'Andrena haemorrhoa' 'Andrena hattorfiana' 'Andrena nigroaenea'\n",
      " 'Andrena nitida' 'Andrena nycthemera' 'Andrena thoracica' 'Andrena vaga'\n",
      " 'Andrena ventralis' 'Anthidiellum strigatum' 'Anthidium florentinum'\n",
      " 'Anthidium manicatum' 'Anthidium oblongatum' 'Anthidium septemspinosum'\n",
      " 'Anthophora bimaculata' 'Anthophora furcata' 'Anthophora plumipes'\n",
      " 'Apis mellifera' 'Bombus argillaceus' 'Bombus bohemicus'\n",
      " 'Bombus campestris' 'Bombus hortorum' 'Bombus humilis' 'Bombus hypnorum'\n",
      " 'Bombus lapidarius' 'Bombus lucorum' 'Bombus muscorum' 'Bombus pascuorum'\n",
      " 'Bombus pratorum' 'Bombus ruderatus' 'Bombus rupestris' 'Bombus sylvarum'\n",
      " 'Bombus terrestris lusitanicus' 'Bombus vestalis' 'Ceratina cucurbitina'\n",
      " 'Chelostoma florisomne' 'Colletes cunicularius' 'Colletes hederae'\n",
      " 'Dasypoda hirtipes' 'Halictus rubicundus' 'Halictus scabiosae'\n",
      " 'Halictus sexcinctus' 'Heriades truncorum' 'Hylaeus variegatus'\n",
      " 'Lithurgus chrysurus' 'Macropis europaea' 'Megachile centuncularis'\n",
      " 'Megachile ericetorum' 'Megachile sculpturalis' 'Melecta albifrons'\n",
      " 'Nomada goodeniana' 'Nomada lathburiana' 'Osmia aurulenta'\n",
      " 'Osmia bicolor' 'Osmia bicornis' 'Osmia caerulescens' 'Osmia cornuta'\n",
      " 'Rhodanthidium septemdentatum' 'Rhodanthidium sticticum'\n",
      " 'Sphecodes albilabris' 'Xylocopa valga' 'Xylocopa violacea']\n"
     ]
    }
   ],
   "source": [
    "especes_names.sort()\n",
    "print(especes_names)"
   ]
  },
  {
   "cell_type": "code",
   "execution_count": 48,
   "id": "f4725039",
   "metadata": {},
   "outputs": [],
   "source": [
    "nb_images_csv = pd.read_csv(path + \"/nombre_images_especes.csv\")\n",
    "#nb_images_csv.rename(columns = {'Unnamed: 0':'species', '0':'nb_images'}, inplace = True)\n",
    "#display(nb_images_csv)"
   ]
  },
  {
   "cell_type": "code",
   "execution_count": 46,
   "id": "1e502ec8",
   "metadata": {},
   "outputs": [],
   "source": [
    "#nb_images_csv.to_csv(path + \"/nombres_images_especes.csv\")"
   ]
  },
  {
   "cell_type": "code",
   "execution_count": 60,
   "id": "8f53d72d",
   "metadata": {},
   "outputs": [],
   "source": [
    "nb_images_csv.set_index(\"species\", inplace=True)"
   ]
  },
  {
   "cell_type": "code",
   "execution_count": 64,
   "id": "767a580d",
   "metadata": {},
   "outputs": [],
   "source": [
    "dic = {}\n",
    "for i in range(71):\n",
    "    nom_espece = especes_names[i]\n",
    "    nb = nb_images_csv.at[nom_espece, \"nb_images\"]\n",
    "    dic[nom_espece] = nb"
   ]
  },
  {
   "cell_type": "code",
   "execution_count": 66,
   "id": "2b6bb767",
   "metadata": {},
   "outputs": [
    {
     "data": {
      "text/html": [
       "<div>\n",
       "<style scoped>\n",
       "    .dataframe tbody tr th:only-of-type {\n",
       "        vertical-align: middle;\n",
       "    }\n",
       "\n",
       "    .dataframe tbody tr th {\n",
       "        vertical-align: top;\n",
       "    }\n",
       "\n",
       "    .dataframe thead th {\n",
       "        text-align: right;\n",
       "    }\n",
       "</style>\n",
       "<table border=\"1\" class=\"dataframe\">\n",
       "  <thead>\n",
       "    <tr style=\"text-align: right;\">\n",
       "      <th></th>\n",
       "      <th>0</th>\n",
       "    </tr>\n",
       "  </thead>\n",
       "  <tbody>\n",
       "    <tr>\n",
       "      <th>Amegilla quadrifasciata</th>\n",
       "      <td>224</td>\n",
       "    </tr>\n",
       "    <tr>\n",
       "      <th>Andrena agilissima</th>\n",
       "      <td>154</td>\n",
       "    </tr>\n",
       "    <tr>\n",
       "      <th>Andrena bicolor</th>\n",
       "      <td>146</td>\n",
       "    </tr>\n",
       "    <tr>\n",
       "      <th>Andrena cineraria</th>\n",
       "      <td>1686</td>\n",
       "    </tr>\n",
       "    <tr>\n",
       "      <th>Andrena clarkella</th>\n",
       "      <td>457</td>\n",
       "    </tr>\n",
       "    <tr>\n",
       "      <th>...</th>\n",
       "      <td>...</td>\n",
       "    </tr>\n",
       "    <tr>\n",
       "      <th>Rhodanthidium septemdentatum</th>\n",
       "      <td>211</td>\n",
       "    </tr>\n",
       "    <tr>\n",
       "      <th>Rhodanthidium sticticum</th>\n",
       "      <td>162</td>\n",
       "    </tr>\n",
       "    <tr>\n",
       "      <th>Sphecodes albilabris</th>\n",
       "      <td>436</td>\n",
       "    </tr>\n",
       "    <tr>\n",
       "      <th>Xylocopa valga</th>\n",
       "      <td>217</td>\n",
       "    </tr>\n",
       "    <tr>\n",
       "      <th>Xylocopa violacea</th>\n",
       "      <td>4042</td>\n",
       "    </tr>\n",
       "  </tbody>\n",
       "</table>\n",
       "<p>71 rows × 1 columns</p>\n",
       "</div>"
      ],
      "text/plain": [
       "                                 0\n",
       "Amegilla quadrifasciata        224\n",
       "Andrena agilissima             154\n",
       "Andrena bicolor                146\n",
       "Andrena cineraria             1686\n",
       "Andrena clarkella              457\n",
       "...                            ...\n",
       "Rhodanthidium septemdentatum   211\n",
       "Rhodanthidium sticticum        162\n",
       "Sphecodes albilabris           436\n",
       "Xylocopa valga                 217\n",
       "Xylocopa violacea             4042\n",
       "\n",
       "[71 rows x 1 columns]"
      ]
     },
     "metadata": {},
     "output_type": "display_data"
    }
   ],
   "source": [
    "df = pd.DataFrame.from_dict([dic])\n",
    "display(df.transpose())"
   ]
  },
  {
   "cell_type": "code",
   "execution_count": 67,
   "id": "64607d1b",
   "metadata": {},
   "outputs": [],
   "source": [
    "#df.transpose().to_csv(path + \"/liste_classes_71.csv\")"
   ]
  },
  {
   "cell_type": "markdown",
   "id": "5adbdddc",
   "metadata": {},
   "source": [
    "# Création du répertoire avec les 71 classes"
   ]
  },
  {
   "cell_type": "code",
   "execution_count": 70,
   "id": "685352e2",
   "metadata": {},
   "outputs": [
    {
     "name": "stdout",
     "output_type": "stream",
     "text": [
      "/Users/pereiradearaujo/Documents/Scolarité/ENSEEIHT/Stage2A\n"
     ]
    }
   ],
   "source": [
    "path = os.getcwd()\n",
    "print(path)"
   ]
  },
  {
   "cell_type": "code",
   "execution_count": 72,
   "id": "d9570c36",
   "metadata": {},
   "outputs": [],
   "source": [
    "import shutil"
   ]
  },
  {
   "cell_type": "code",
   "execution_count": 81,
   "id": "f694a5a1",
   "metadata": {},
   "outputs": [],
   "source": [
    "for i in range(71):\n",
    "    nom_espece = especes_names[i]\n",
    "    shutil.copytree(path + \"/BD/\" + nom_espece, path + \"/BD_71/\" + nom_espece)"
   ]
  }
 ],
 "metadata": {
  "kernelspec": {
   "display_name": "Python 3 (ipykernel)",
   "language": "python",
   "name": "python3"
  },
  "language_info": {
   "codemirror_mode": {
    "name": "ipython",
    "version": 3
   },
   "file_extension": ".py",
   "mimetype": "text/x-python",
   "name": "python",
   "nbconvert_exporter": "python",
   "pygments_lexer": "ipython3",
   "version": "3.9.7"
  }
 },
 "nbformat": 4,
 "nbformat_minor": 5
}
